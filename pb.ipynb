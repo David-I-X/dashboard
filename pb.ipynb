{
 "cells": [
  {
   "cell_type": "code",
   "execution_count": 4,
   "metadata": {},
   "outputs": [],
   "source": [
    "import streamlit as st\n",
    "import plotly.graph_objects as go\n",
    "import pandas as pd\n",
    "from sqlalchemy import create_engine"
   ]
  },
  {
   "cell_type": "code",
   "execution_count": 3,
   "metadata": {},
   "outputs": [],
   "source": [
    "# Consultar los datos necesarios desde un archivo local\n",
    "def get_data():\n",
    "    # Cargar los datos desde el archivo Parquet\n",
    "    trips = pd.read_parquet('C:/Users/david/Documents/ETL-P/etl_minio/trips.parquet')\n",
    "\n",
    "    # Asegúrate de que la columna de fecha está en formato datetime\n",
    "    trips['pickup_datetime'] = pd.to_datetime(trips['pickup_datetime'])\n",
    "\n",
    "    # Crear la columna 'day_of_week' basada en la fecha del viaje\n",
    "    trips['day_of_week'] = trips['pickup_datetime'].dt.day_name()\n",
    "\n",
    "    return trips\n",
    "\n",
    "# Función para calcular el KPI\n",
    "def calculate_kpi(trips_data):\n",
    "    # Calcular el KPI: Rentabilidad Operativa\n",
    "    total_amount_sum = trips_data['total_amount'].sum()\n",
    "    trip_distance_sum = trips_data['trip_distance'].sum()\n",
    "\n",
    "    if trip_distance_sum == 0:\n",
    "        return 0  # Evitar divisiones por 0\n",
    "\n",
    "    # Rentabilidad Operativa simplificada\n",
    "    kpi_value = (total_amount_sum / trip_distance_sum) * 100\n",
    "    return kpi_value"
   ]
  },
  {
   "cell_type": "code",
   "execution_count": 5,
   "metadata": {},
   "outputs": [],
   "source": [
    "# Obtener conexión y datos\n",
    "trips= get_data()"
   ]
  },
  {
   "cell_type": "code",
   "execution_count": null,
   "metadata": {},
   "outputs": [],
   "source": [
    "trips"
   ]
  },
  {
   "cell_type": "code",
   "execution_count": null,
   "metadata": {},
   "outputs": [],
   "source": []
  },
  {
   "cell_type": "code",
   "execution_count": 6,
   "metadata": {},
   "outputs": [],
   "source": [
    "# Colocar el selectbox dentro del KPI 3\n",
    "tipos = trips['type'].unique()\n",
    "tipo_seleccionado = 'FHV'\n",
    "\n",
    "# Filtrar los datos por el tipo de viaje seleccionado (aplica solo a KPI 3)\n",
    "trips_filtrados_kpi3 = trips[trips['type'] == tipo_seleccionado]\n",
    "\n",
    "# Calcular el KPI 3 con el filtro aplicado\n",
    "kpi_value = calculate_kpi(trips_filtrados_kpi3)"
   ]
  },
  {
   "cell_type": "code",
   "execution_count": 7,
   "metadata": {},
   "outputs": [
    {
     "data": {
      "text/plain": [
       "0"
      ]
     },
     "execution_count": 7,
     "metadata": {},
     "output_type": "execute_result"
    }
   ],
   "source": [
    "trips_filtrados_kpi3"
   ]
  },
  {
   "cell_type": "code",
   "execution_count": null,
   "metadata": {},
   "outputs": [],
   "source": [
    "fuel =pd.read_parquet('etl_minio/fuel_economy_data.parquet')"
   ]
  }
 ],
 "metadata": {
  "kernelspec": {
   "display_name": "stremp",
   "language": "python",
   "name": "python3"
  },
  "language_info": {
   "codemirror_mode": {
    "name": "ipython",
    "version": 3
   },
   "file_extension": ".py",
   "mimetype": "text/x-python",
   "name": "python",
   "nbconvert_exporter": "python",
   "pygments_lexer": "ipython3",
   "version": "3.11.5"
  }
 },
 "nbformat": 4,
 "nbformat_minor": 2
}
